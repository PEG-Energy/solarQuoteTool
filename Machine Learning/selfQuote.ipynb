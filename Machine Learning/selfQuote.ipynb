{
 "cells": [
  {
   "cell_type": "markdown",
   "id": "7f80c285",
   "metadata": {},
   "source": [
    "# Setting Up Data"
   ]
  },
  {
   "cell_type": "code",
   "execution_count": 1,
   "id": "e0e1929d",
   "metadata": {},
   "outputs": [],
   "source": [
    "# Import dependencies\n",
    "import pandas as pd\n",
    "from pathlib import Path\n",
    "import matplotlib.pyplot as plt\n",
    "from sklearn.linear_model import LinearRegression\n",
    "from sqlalchemy import create_engine\n",
    "import matplotlib.pyplot as plt"
   ]
  },
  {
   "cell_type": "code",
   "execution_count": 2,
   "id": "802d21b4",
   "metadata": {},
   "outputs": [
    {
     "data": {
      "text/html": [
       "<div>\n",
       "<style scoped>\n",
       "    .dataframe tbody tr th:only-of-type {\n",
       "        vertical-align: middle;\n",
       "    }\n",
       "\n",
       "    .dataframe tbody tr th {\n",
       "        vertical-align: top;\n",
       "    }\n",
       "\n",
       "    .dataframe thead th {\n",
       "        text-align: right;\n",
       "    }\n",
       "</style>\n",
       "<table border=\"1\" class=\"dataframe\">\n",
       "  <thead>\n",
       "    <tr style=\"text-align: right;\">\n",
       "      <th></th>\n",
       "      <th>address</th>\n",
       "      <th>city</th>\n",
       "      <th>zip</th>\n",
       "      <th>utility_provider</th>\n",
       "      <th>average_bill</th>\n",
       "      <th>number_of_panels</th>\n",
       "      <th>panel_model</th>\n",
       "      <th>principal</th>\n",
       "      <th>available_taxcredit</th>\n",
       "      <th>after_taxcredit</th>\n",
       "      <th>monthly_rate</th>\n",
       "      <th>loan_term(months)</th>\n",
       "      <th>montly_payment</th>\n",
       "      <th>if_cash</th>\n",
       "      <th>kW</th>\n",
       "      <th>add_battery</th>\n",
       "      <th>net_with_battery</th>\n",
       "      <th>monthly_battery</th>\n",
       "    </tr>\n",
       "  </thead>\n",
       "  <tbody>\n",
       "    <tr>\n",
       "      <th>0</th>\n",
       "      <td>713 East 9th Street</td>\n",
       "      <td>San Juan</td>\n",
       "      <td>78589</td>\n",
       "      <td>AEP</td>\n",
       "      <td>199.92</td>\n",
       "      <td>34</td>\n",
       "      <td>SunPower</td>\n",
       "      <td>34639.2</td>\n",
       "      <td>9006.19</td>\n",
       "      <td>25633.01</td>\n",
       "      <td>0.0004</td>\n",
       "      <td>240</td>\n",
       "      <td>112.03</td>\n",
       "      <td>0.0</td>\n",
       "      <td>12.24</td>\n",
       "      <td>48639.2</td>\n",
       "      <td>35993.01</td>\n",
       "      <td>157.31</td>\n",
       "    </tr>\n",
       "    <tr>\n",
       "      <th>1</th>\n",
       "      <td>705 Dellwood Drive</td>\n",
       "      <td>Laredo</td>\n",
       "      <td>78045</td>\n",
       "      <td>AEP</td>\n",
       "      <td>217.56</td>\n",
       "      <td>37</td>\n",
       "      <td>SunPower</td>\n",
       "      <td>37695.6</td>\n",
       "      <td>9800.86</td>\n",
       "      <td>27894.74</td>\n",
       "      <td>0.0004</td>\n",
       "      <td>240</td>\n",
       "      <td>121.92</td>\n",
       "      <td>0.0</td>\n",
       "      <td>13.32</td>\n",
       "      <td>51695.6</td>\n",
       "      <td>38254.74</td>\n",
       "      <td>167.20</td>\n",
       "    </tr>\n",
       "    <tr>\n",
       "      <th>2</th>\n",
       "      <td>4310 Boots Drive</td>\n",
       "      <td>Killeen</td>\n",
       "      <td>76549</td>\n",
       "      <td>Oncor</td>\n",
       "      <td>211.68</td>\n",
       "      <td>36</td>\n",
       "      <td>SunPower</td>\n",
       "      <td>36676.8</td>\n",
       "      <td>9535.97</td>\n",
       "      <td>27140.83</td>\n",
       "      <td>0.0004</td>\n",
       "      <td>240</td>\n",
       "      <td>118.62</td>\n",
       "      <td>0.0</td>\n",
       "      <td>12.96</td>\n",
       "      <td>50676.8</td>\n",
       "      <td>37500.83</td>\n",
       "      <td>163.90</td>\n",
       "    </tr>\n",
       "    <tr>\n",
       "      <th>3</th>\n",
       "      <td>3307 Begay</td>\n",
       "      <td>Laredo</td>\n",
       "      <td>78046</td>\n",
       "      <td>AEP</td>\n",
       "      <td>323.40</td>\n",
       "      <td>55</td>\n",
       "      <td>SunPower</td>\n",
       "      <td>56034.0</td>\n",
       "      <td>14568.84</td>\n",
       "      <td>41465.16</td>\n",
       "      <td>0.0004</td>\n",
       "      <td>240</td>\n",
       "      <td>181.23</td>\n",
       "      <td>0.0</td>\n",
       "      <td>19.80</td>\n",
       "      <td>70034.0</td>\n",
       "      <td>51825.16</td>\n",
       "      <td>226.51</td>\n",
       "    </tr>\n",
       "    <tr>\n",
       "      <th>4</th>\n",
       "      <td>11112 Entrada Loop</td>\n",
       "      <td>Laredo</td>\n",
       "      <td>78045</td>\n",
       "      <td>AEP</td>\n",
       "      <td>235.20</td>\n",
       "      <td>40</td>\n",
       "      <td>SunPower</td>\n",
       "      <td>40752.0</td>\n",
       "      <td>10595.52</td>\n",
       "      <td>30156.48</td>\n",
       "      <td>0.0004</td>\n",
       "      <td>240</td>\n",
       "      <td>131.80</td>\n",
       "      <td>0.0</td>\n",
       "      <td>14.40</td>\n",
       "      <td>54752.0</td>\n",
       "      <td>40516.48</td>\n",
       "      <td>177.09</td>\n",
       "    </tr>\n",
       "  </tbody>\n",
       "</table>\n",
       "</div>"
      ],
      "text/plain": [
       "               address      city    zip utility_provider  average_bill  \\\n",
       "0  713 East 9th Street  San Juan  78589              AEP        199.92   \n",
       "1   705 Dellwood Drive    Laredo  78045              AEP        217.56   \n",
       "2     4310 Boots Drive   Killeen  76549            Oncor        211.68   \n",
       "3           3307 Begay    Laredo  78046              AEP        323.40   \n",
       "4   11112 Entrada Loop    Laredo  78045              AEP        235.20   \n",
       "\n",
       "   number_of_panels panel_model  principal  available_taxcredit  \\\n",
       "0                34    SunPower    34639.2              9006.19   \n",
       "1                37    SunPower    37695.6              9800.86   \n",
       "2                36    SunPower    36676.8              9535.97   \n",
       "3                55    SunPower    56034.0             14568.84   \n",
       "4                40    SunPower    40752.0             10595.52   \n",
       "\n",
       "   after_taxcredit  monthly_rate loan_term(months)  montly_payment  if_cash  \\\n",
       "0         25633.01        0.0004               240          112.03      0.0   \n",
       "1         27894.74        0.0004               240          121.92      0.0   \n",
       "2         27140.83        0.0004               240          118.62      0.0   \n",
       "3         41465.16        0.0004               240          181.23      0.0   \n",
       "4         30156.48        0.0004               240          131.80      0.0   \n",
       "\n",
       "      kW  add_battery  net_with_battery  monthly_battery  \n",
       "0  12.24      48639.2          35993.01           157.31  \n",
       "1  13.32      51695.6          38254.74           167.20  \n",
       "2  12.96      50676.8          37500.83           163.90  \n",
       "3  19.80      70034.0          51825.16           226.51  \n",
       "4  14.40      54752.0          40516.48           177.09  "
      ]
     },
     "execution_count": 2,
     "metadata": {},
     "output_type": "execute_result"
    }
   ],
   "source": [
    "# Load in data\n",
    "data = pd.read_csv('Resources/Data.csv')\n",
    "data.head()"
   ]
  },
  {
   "cell_type": "code",
   "execution_count": 3,
   "id": "60f5fafe",
   "metadata": {},
   "outputs": [
    {
     "data": {
      "text/html": [
       "<div>\n",
       "<style scoped>\n",
       "    .dataframe tbody tr th:only-of-type {\n",
       "        vertical-align: middle;\n",
       "    }\n",
       "\n",
       "    .dataframe tbody tr th {\n",
       "        vertical-align: top;\n",
       "    }\n",
       "\n",
       "    .dataframe thead th {\n",
       "        text-align: right;\n",
       "    }\n",
       "</style>\n",
       "<table border=\"1\" class=\"dataframe\">\n",
       "  <thead>\n",
       "    <tr style=\"text-align: right;\">\n",
       "      <th></th>\n",
       "      <th>city</th>\n",
       "      <th>zip</th>\n",
       "      <th>utility_provider</th>\n",
       "      <th>average_bill</th>\n",
       "      <th>number_of_panels</th>\n",
       "      <th>panel_model</th>\n",
       "      <th>principal</th>\n",
       "      <th>available_taxcredit</th>\n",
       "      <th>after_taxcredit</th>\n",
       "      <th>monthly_rate</th>\n",
       "      <th>loan_term(months)</th>\n",
       "      <th>montly_payment</th>\n",
       "    </tr>\n",
       "  </thead>\n",
       "  <tbody>\n",
       "    <tr>\n",
       "      <th>0</th>\n",
       "      <td>San Juan</td>\n",
       "      <td>78589</td>\n",
       "      <td>AEP</td>\n",
       "      <td>199.92</td>\n",
       "      <td>34</td>\n",
       "      <td>SunPower</td>\n",
       "      <td>34639.2</td>\n",
       "      <td>9006.19</td>\n",
       "      <td>25633.01</td>\n",
       "      <td>0.0004</td>\n",
       "      <td>240</td>\n",
       "      <td>112.03</td>\n",
       "    </tr>\n",
       "    <tr>\n",
       "      <th>1</th>\n",
       "      <td>Laredo</td>\n",
       "      <td>78045</td>\n",
       "      <td>AEP</td>\n",
       "      <td>217.56</td>\n",
       "      <td>37</td>\n",
       "      <td>SunPower</td>\n",
       "      <td>37695.6</td>\n",
       "      <td>9800.86</td>\n",
       "      <td>27894.74</td>\n",
       "      <td>0.0004</td>\n",
       "      <td>240</td>\n",
       "      <td>121.92</td>\n",
       "    </tr>\n",
       "    <tr>\n",
       "      <th>2</th>\n",
       "      <td>Killeen</td>\n",
       "      <td>76549</td>\n",
       "      <td>Oncor</td>\n",
       "      <td>211.68</td>\n",
       "      <td>36</td>\n",
       "      <td>SunPower</td>\n",
       "      <td>36676.8</td>\n",
       "      <td>9535.97</td>\n",
       "      <td>27140.83</td>\n",
       "      <td>0.0004</td>\n",
       "      <td>240</td>\n",
       "      <td>118.62</td>\n",
       "    </tr>\n",
       "    <tr>\n",
       "      <th>3</th>\n",
       "      <td>Laredo</td>\n",
       "      <td>78046</td>\n",
       "      <td>AEP</td>\n",
       "      <td>323.40</td>\n",
       "      <td>55</td>\n",
       "      <td>SunPower</td>\n",
       "      <td>56034.0</td>\n",
       "      <td>14568.84</td>\n",
       "      <td>41465.16</td>\n",
       "      <td>0.0004</td>\n",
       "      <td>240</td>\n",
       "      <td>181.23</td>\n",
       "    </tr>\n",
       "    <tr>\n",
       "      <th>4</th>\n",
       "      <td>Laredo</td>\n",
       "      <td>78045</td>\n",
       "      <td>AEP</td>\n",
       "      <td>235.20</td>\n",
       "      <td>40</td>\n",
       "      <td>SunPower</td>\n",
       "      <td>40752.0</td>\n",
       "      <td>10595.52</td>\n",
       "      <td>30156.48</td>\n",
       "      <td>0.0004</td>\n",
       "      <td>240</td>\n",
       "      <td>131.80</td>\n",
       "    </tr>\n",
       "  </tbody>\n",
       "</table>\n",
       "</div>"
      ],
      "text/plain": [
       "       city    zip utility_provider  average_bill  number_of_panels  \\\n",
       "0  San Juan  78589              AEP        199.92                34   \n",
       "1    Laredo  78045              AEP        217.56                37   \n",
       "2   Killeen  76549            Oncor        211.68                36   \n",
       "3    Laredo  78046              AEP        323.40                55   \n",
       "4    Laredo  78045              AEP        235.20                40   \n",
       "\n",
       "  panel_model  principal  available_taxcredit  after_taxcredit  monthly_rate  \\\n",
       "0    SunPower    34639.2              9006.19         25633.01        0.0004   \n",
       "1    SunPower    37695.6              9800.86         27894.74        0.0004   \n",
       "2    SunPower    36676.8              9535.97         27140.83        0.0004   \n",
       "3    SunPower    56034.0             14568.84         41465.16        0.0004   \n",
       "4    SunPower    40752.0             10595.52         30156.48        0.0004   \n",
       "\n",
       "  loan_term(months)  montly_payment  \n",
       "0               240          112.03  \n",
       "1               240          121.92  \n",
       "2               240          118.62  \n",
       "3               240          181.23  \n",
       "4               240          131.80  "
      ]
     },
     "execution_count": 3,
     "metadata": {},
     "output_type": "execute_result"
    }
   ],
   "source": [
    "# Get the necessary data to determine the number of panels needed\n",
    "necessary_data = data.drop(['address', 'if_cash', 'kW', 'add_battery', 'net_with_battery', 'monthly_battery'],\n",
    "                          axis = 1)\n",
    "necessary_data.head()"
   ]
  },
  {
   "cell_type": "code",
   "execution_count": 4,
   "id": "fc829d3b",
   "metadata": {},
   "outputs": [
    {
     "data": {
      "text/plain": [
       "364.56"
      ]
     },
     "execution_count": 4,
     "metadata": {},
     "output_type": "execute_result"
    }
   ],
   "source": [
    "# Get the max average bill\n",
    "necessary_data['average_bill'].max()"
   ]
  },
  {
   "cell_type": "code",
   "execution_count": 5,
   "id": "cac05228",
   "metadata": {},
   "outputs": [],
   "source": [
    "# Use the get_dummies method on non float columns City, Electric Utility, and panel_model\n",
    "#clean_data = pd.get_dummies(necessary_data, columns=['city', 'utility_provider', 'panel_model'])\n",
    "#clean_data.head()"
   ]
  },
  {
   "cell_type": "markdown",
   "id": "aa3b71f8",
   "metadata": {},
   "source": [
    "# Begin Multiple Linear Regression Model"
   ]
  },
  {
   "cell_type": "code",
   "execution_count": 6,
   "id": "6ab6c181",
   "metadata": {},
   "outputs": [],
   "source": [
    "# Set the target and features\n",
    "y = necessary_data['number_of_panels']\n",
    "X = necessary_data['average_bill']"
   ]
  },
  {
   "cell_type": "code",
   "execution_count": 7,
   "id": "abd940d8",
   "metadata": {},
   "outputs": [
    {
     "data": {
      "text/plain": [
       "(278,)"
      ]
     },
     "execution_count": 7,
     "metadata": {},
     "output_type": "execute_result"
    }
   ],
   "source": [
    "# Splitting into Train and Test sets into an 80/20 split.\n",
    "from sklearn.model_selection import train_test_split\n",
    "\n",
    "X_train, X_test, y_train, y_test = train_test_split(X, y, train_size=.80, random_state=85)\n",
    "\n",
    "X_train.shape"
   ]
  },
  {
   "cell_type": "code",
   "execution_count": 8,
   "id": "1d629da9",
   "metadata": {},
   "outputs": [
    {
     "data": {
      "text/plain": [
       "LinearRegression()"
      ]
     },
     "execution_count": 8,
     "metadata": {},
     "output_type": "execute_result"
    }
   ],
   "source": [
    "# Training the data using linear regression\n",
    "model = LinearRegression()\n",
    "model.fit(X_train.values.reshape(-1,1), y_train)"
   ]
  },
  {
   "cell_type": "code",
   "execution_count": 9,
   "id": "1bdc7396",
   "metadata": {},
   "outputs": [
    {
     "data": {
      "text/plain": [
       "array([43., 30., 30., 40., 41., 19., 20., 38., 36., 46., 45., 57., 55.,\n",
       "       60., 34., 30., 28., 32., 30., 44., 52., 35., 30., 32., 41., 47.,\n",
       "       48., 37., 34., 22., 46., 41., 41., 40., 20., 31., 53., 30., 52.,\n",
       "       24., 57., 35., 41., 32., 38., 30., 43., 56., 49., 22., 42., 35.,\n",
       "       28., 27., 30., 44., 42., 30., 34., 26., 36., 38., 40., 37., 30.,\n",
       "       23., 30., 36., 33., 32.])"
      ]
     },
     "execution_count": 9,
     "metadata": {},
     "output_type": "execute_result"
    }
   ],
   "source": [
    "# Make predictions\n",
    "y_prediction = model.predict(X_test.values.reshape(-1,1))\n",
    "y_prediction"
   ]
  },
  {
   "cell_type": "code",
   "execution_count": 10,
   "id": "6b5b46e7",
   "metadata": {},
   "outputs": [
    {
     "name": "stdout",
     "output_type": "stream",
     "text": [
      "r2_score is 1.0\n",
      "mean_sqrd_error is== 6.851820433919645e-30\n",
      "root_mean_squared error of is== 2.617598218581233e-15\n"
     ]
    }
   ],
   "source": [
    "# importing r2_score module\n",
    "# Code received from https://www.analyticsvidhya.com/blog/2021/05/multiple-linear-regression-using-python-and-scikit-learn/\n",
    "from sklearn.metrics import r2_score\n",
    "from sklearn.metrics import mean_squared_error\n",
    "import numpy as np\n",
    "# predicting the accuracy score\n",
    "score=r2_score(y_test,y_prediction)\n",
    "print('r2_score is',score)\n",
    "print('mean_sqrd_error is==',mean_squared_error(y_test,y_prediction))\n",
    "print('root_mean_squared error of is==',np.sqrt(mean_squared_error(y_test,y_prediction)))"
   ]
  },
  {
   "cell_type": "markdown",
   "id": "ba0057ed",
   "metadata": {},
   "source": [
    "# Test"
   ]
  },
  {
   "cell_type": "code",
   "execution_count": 11,
   "id": "724fb8e8",
   "metadata": {},
   "outputs": [
    {
     "name": "stdout",
     "output_type": "stream",
     "text": [
      "Panels: [43.]\n",
      "Total Cost: [43808.] \n",
      "20 Year Monthly Payment: [142.]\n",
      "12 Year Monthly Payment: [225.]\n",
      "Yearly Savings: [[1296.]]\n"
     ]
    }
   ],
   "source": [
    "# Test new inputs\n",
    "new_bill = [[250]]\n",
    "\n",
    "# Predict using the new average bill\n",
    "new_panels_needed = model.predict(new_bill).round()\n",
    "\n",
    "# Determine total cost\n",
    "TC_try = new_panels_needed*360*2.83\n",
    "TC = TC_try.round()\n",
    "# Determine Net Cost\n",
    "TNC_try = TC*0.74\n",
    "TNC = TNC_try.round()\n",
    "# Determine monthly payment 20 Year\n",
    "MP_20_try = TNC*0.00044029517 / 0.10073793525\n",
    "MP_20 = MP_20_try.round()\n",
    "# Determine monthly payment 12 year\n",
    "MP_12_try = TNC/144\n",
    "MP_12 = MP_12_try.round()\n",
    "# Determine Yearly Savings\n",
    "monthly_savings = new_bill - MP_20\n",
    "Yearly_savings = monthly_savings * 12\n",
    "\n",
    "# Print information for client\n",
    "print(f'Panels: {new_panels_needed}\\nTotal Cost: {TC} \\n20 Year Monthly Payment: {MP_20}\\n12 Year Monthly Payment: {MP_12}\\nYearly Savings: {Yearly_savings}')"
   ]
  }
 ],
 "metadata": {
  "kernelspec": {
   "display_name": "mlenv",
   "language": "python",
   "name": "mlenv"
  },
  "language_info": {
   "codemirror_mode": {
    "name": "ipython",
    "version": 3
   },
   "file_extension": ".py",
   "mimetype": "text/x-python",
   "name": "python",
   "nbconvert_exporter": "python",
   "pygments_lexer": "ipython3",
   "version": "3.7.10"
  }
 },
 "nbformat": 4,
 "nbformat_minor": 5
}
